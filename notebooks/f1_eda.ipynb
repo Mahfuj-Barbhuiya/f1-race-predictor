{
 "cells": [
  {
   "cell_type": "code",
   "execution_count": null,
   "id": "d53d2d4f",
   "metadata": {},
   "outputs": [],
   "source": [
    "# Import Required Libraries\n",
    "import pandas as pd\n",
    "import numpy as np\n",
    "import matplotlib.pyplot as plt\n",
    "import seaborn as sns\n",
    "import plotly.express as px\n",
    "\n",
    "# Set visualization styles\n",
    "sns.set(style=\"whitegrid\")"
   ]
  },
  {
   "cell_type": "markdown",
   "id": "59bb2ec8",
   "metadata": {},
   "source": [
    "# F1 Race Prediction: Exploratory Data Analysis (EDA)\n",
    "\n",
    "This notebook explores historical Formula 1 data to uncover patterns, correlations, and trends relevant for race outcome prediction. Analyses include finishing position distributions, qualifying vs race results, DNF rates, performance trends, home advantage, weather and safety car impacts."
   ]
  },
  {
   "cell_type": "code",
   "execution_count": null,
   "id": "b0d0495d",
   "metadata": {},
   "outputs": [],
   "source": [
    "# Load Data from SQLite Database\n",
    "import sqlite3\n",
    "\n",
    "db_path = '../data/processed/f1_data.sqlite'\n",
    "conn = sqlite3.connect(db_path)\n",
    "races = pd.read_sql_query('SELECT * FROM races', conn)\n",
    "race_results = pd.read_sql_query('SELECT * FROM race_results', conn)\n",
    "qualifying_results = pd.read_sql_query('SELECT * FROM qualifying_results', conn)\n",
    "conn.close()\n",
    "\n",
    "print(f\"Races: {races.shape}\")\n",
    "print(f\"Race Results: {race_results.shape}\")\n",
    "print(f\"Qualifying Results: {qualifying_results.shape}\")"
   ]
  },
  {
   "cell_type": "markdown",
   "id": "78328f48",
   "metadata": {},
   "source": [
    "## Distribution of Finishing Positions by Driver/Team\n",
    "\n",
    "Analyze how drivers and teams finish across races and seasons."
   ]
  },
  {
   "cell_type": "code",
   "execution_count": null,
   "id": "dd8e5406",
   "metadata": {},
   "outputs": [],
   "source": [
    "# Plot Finishing Position Distributions\n",
    "\n",
    "top_drivers = race_results['driver_id'].value_counts().head(10).index\n",
    "plt.figure(figsize=(12, 6))\n",
    "for driver in top_drivers:\n",
    "    driver_results = race_results[race_results['driver_id'] == driver]\n",
    "    sns.histplot(driver_results['final_position'], label=driver, kde=True, bins=20, alpha=0.5)\n",
    "plt.title('Finishing Position Distribution: Top 10 Drivers')\n",
    "plt.xlabel('Finishing Position')\n",
    "plt.ylabel('Count')\n",
    "plt.legend()\n",
    "plt.show()\n",
    "\n",
    "# Team distribution\n",
    "plt.figure(figsize=(12, 6))\n",
    "top_teams = race_results['constructor_id'].value_counts().head(5).index\n",
    "for team in top_teams:\n",
    "    team_results = race_results[race_results['constructor_id'] == team]\n",
    "    sns.histplot(team_results['final_position'], label=team, kde=True, bins=20, alpha=0.5)\n",
    "plt.title('Finishing Position Distribution: Top 5 Teams')\n",
    "plt.xlabel('Finishing Position')\n",
    "plt.ylabel('Count')\n",
    "plt.legend()\n",
    "plt.show()"
   ]
  },
  {
   "cell_type": "markdown",
   "id": "976cffcb",
   "metadata": {},
   "source": [
    "## Correlation Between Qualifying and Race Positions\n",
    "\n",
    "Explore the relationship between qualifying position and final race result."
   ]
  },
  {
   "cell_type": "code",
   "execution_count": null,
   "id": "1bd240e4",
   "metadata": {},
   "outputs": [],
   "source": [
    "# Correlation Analysis: Qualifying vs Race Position\n",
    "merged = pd.merge(race_results, qualifying_results, on=[\"race_id\", \"driver_id\", \"constructor_id\"], suffixes=(\"_race\", \"_qual\"))\n",
    "plt.figure(figsize=(8, 6))\n",
    "sns.scatterplot(x=merged['position'], y=merged['final_position'])\n",
    "plt.title('Qualifying Position vs Final Race Position')\n",
    "plt.xlabel('Qualifying Position')\n",
    "plt.ylabel('Final Race Position')\n",
    "plt.show()\n",
    "\n",
    "corr = merged[['position', 'final_position']].corr().iloc[0,1]\n",
    "print(f\"Correlation between qualifying and race position: {corr:.2f}\")"
   ]
  },
  {
   "cell_type": "markdown",
   "id": "742a71af",
   "metadata": {},
   "source": [
    "## Impact of Starting Position on Final Results\n",
    "\n",
    "Analyze how grid position affects race outcomes."
   ]
  },
  {
   "cell_type": "code",
   "execution_count": null,
   "id": "62fbd5f1",
   "metadata": {},
   "outputs": [],
   "source": [
    "# Impact of Grid Position on Final Results\n",
    "plt.figure(figsize=(10, 6))\n",
    "sns.boxplot(x='grid_position', y='final_position', data=race_results)\n",
    "plt.title('Grid Position vs Final Race Position')\n",
    "plt.xlabel('Grid Position')\n",
    "plt.ylabel('Final Race Position')\n",
    "plt.show()"
   ]
  },
  {
   "cell_type": "markdown",
   "id": "0f1e619e",
   "metadata": {},
   "source": [
    "## DNF Rates by Team and Engine Manufacturer\n",
    "\n",
    "Analyze the frequency of DNFs (Did Not Finish) by team and engine supplier."
   ]
  },
  {
   "cell_type": "code",
   "execution_count": null,
   "id": "b023735b",
   "metadata": {},
   "outputs": [],
   "source": [
    "# DNF Rates by Team\n",
    "race_results['dnf'] = race_results['status'].str.contains('DNF|Retired|Accident|Mechanical', case=False)\n",
    "dnf_by_team = race_results.groupby('constructor_id')['dnf'].mean().sort_values(ascending=False)\n",
    "plt.figure(figsize=(10, 5))\n",
    "dnf_by_team.plot(kind='bar', color='red')\n",
    "plt.title('DNF Rate by Team')\n",
    "plt.ylabel('DNF Rate')\n",
    "plt.xlabel('Team')\n",
    "plt.show()\n",
    "\n",
    "# DNF Rates by Engine Manufacturer (if available)\n",
    "if 'engine_manufacturer' in race_results.columns:\n",
    "    dnf_by_engine = race_results.groupby('engine_manufacturer')['dnf'].mean().sort_values(ascending=False)\n",
    "    plt.figure(figsize=(10, 5))\n",
    "    dnf_by_engine.plot(kind='bar', color='orange')\n",
    "    plt.title('DNF Rate by Engine Manufacturer')\n",
    "    plt.ylabel('DNF Rate')\n",
    "    plt.xlabel('Engine Manufacturer')\n",
    "    plt.show()"
   ]
  },
  {
   "cell_type": "markdown",
   "id": "aaea450e",
   "metadata": {},
   "source": [
    "## Performance Trends Over Seasons\n",
    "\n",
    "Visualize how driver and team performance evolves across multiple seasons."
   ]
  },
  {
   "cell_type": "code",
   "execution_count": null,
   "id": "e30a3361",
   "metadata": {},
   "outputs": [],
   "source": [
    "# Team Performance Trends Over Seasons\n",
    "team_points = race_results.groupby(['season', 'constructor_id'])['points'].sum().reset_index()\n",
    "plt.figure(figsize=(14, 7))\n",
    "for team in team_points['constructor_id'].unique():\n",
    "    team_data = team_points[team_points['constructor_id'] == team]\n",
    "    plt.plot(team_data['season'], team_data['points'], label=team)\n",
    "plt.title('Team Performance Evolution Over Seasons')\n",
    "plt.xlabel('Season')\n",
    "plt.ylabel('Total Points')\n",
    "plt.legend()\n",
    "plt.show()"
   ]
  },
  {
   "cell_type": "markdown",
   "id": "4b74e638",
   "metadata": {},
   "source": [
    "## Home Advantage Analysis\n",
    "\n",
    "Analyze if drivers perform better at their home Grand Prix."
   ]
  },
  {
   "cell_type": "code",
   "execution_count": null,
   "id": "8d4c57cb",
   "metadata": {},
   "outputs": [],
   "source": [
    "# Home Advantage Analysis\n",
    "# Assumes races and race_results have 'country' and 'driver_nationality' columns\n",
    "if 'country' in races.columns and 'driver_nationality' in race_results.columns:\n",
    "    merged_home = pd.merge(race_results, races[['race_id', 'country']], on='race_id')\n",
    "    merged_home['is_home'] = merged_home['country'] == merged_home['driver_nationality']\n",
    "    home_perf = merged_home.groupby('is_home')['final_position'].mean()\n",
    "    print('Average finishing position (home vs non-home):')\n",
    "    print(home_perf)\n",
    "    sns.boxplot(x='is_home', y='final_position', data=merged_home)\n",
    "    plt.title('Home Advantage: Finishing Position')\n",
    "    plt.xlabel('Home Race')\n",
    "    plt.ylabel('Finishing Position')\n",
    "    plt.show()"
   ]
  },
  {
   "cell_type": "markdown",
   "id": "6421458e",
   "metadata": {},
   "source": [
    "## Weather Impact on Race Outcomes\n",
    "\n",
    "Analyze how different weather conditions affect race results and DNFs."
   ]
  },
  {
   "cell_type": "code",
   "execution_count": null,
   "id": "54d59d79",
   "metadata": {},
   "outputs": [],
   "source": [
    "# Weather Impact Analysis\n",
    "if 'weather_conditions' in races.columns:\n",
    "    merged_weather = pd.merge(race_results, races[['race_id', 'weather_conditions']], on='race_id')\n",
    "    weather_dnf = merged_weather.groupby('weather_conditions')['dnf'].mean().sort_values(ascending=False)\n",
    "    plt.figure(figsize=(10, 5))\n",
    "    weather_dnf.plot(kind='bar', color='blue')\n",
    "    plt.title('DNF Rate by Weather Condition')\n",
    "    plt.ylabel('DNF Rate')\n",
    "    plt.xlabel('Weather Condition')\n",
    "    plt.show()\n",
    "    # Average finishing position by weather\n",
    "    weather_finish = merged_weather.groupby('weather_conditions')['final_position'].mean().sort_values()\n",
    "    plt.figure(figsize=(10, 5))\n",
    "    weather_finish.plot(kind='bar', color='green')\n",
    "    plt.title('Average Finishing Position by Weather Condition')\n",
    "    plt.ylabel('Average Finishing Position')\n",
    "    plt.xlabel('Weather Condition')\n",
    "    plt.show()"
   ]
  },
  {
   "cell_type": "markdown",
   "id": "6e0fd7b3",
   "metadata": {},
   "source": [
    "## Safety Car Impact on Race Results\n",
    "\n",
    "Analyze how safety car deployments affect race outcomes and position changes."
   ]
  },
  {
   "cell_type": "code",
   "execution_count": null,
   "id": "fd059e97",
   "metadata": {},
   "outputs": [],
   "source": [
    "# Safety Car Impact Analysis\n",
    "if 'safety_cars' in races.columns:\n",
    "    merged_safety = pd.merge(race_results, races[['race_id', 'safety_cars']], on='race_id')\n",
    "    safety_finish = merged_safety.groupby('safety_cars')['final_position'].mean()\n",
    "    plt.figure(figsize=(10, 5))\n",
    "    safety_finish.plot(kind='bar', color='purple')\n",
    "    plt.title('Average Finishing Position by Number of Safety Cars')\n",
    "    plt.ylabel('Average Finishing Position')\n",
    "    plt.xlabel('Number of Safety Cars')\n",
    "    plt.show()"
   ]
  },
  {
   "cell_type": "markdown",
   "id": "6d520e95",
   "metadata": {},
   "source": [
    "## Advanced Visualizations\n",
    "\n",
    "Heatmaps, scatter plots, box plots, and Sankey diagrams to explore F1 data relationships."
   ]
  },
  {
   "cell_type": "code",
   "execution_count": null,
   "id": "2c9106b9",
   "metadata": {},
   "outputs": [],
   "source": [
    "# Heatmap: Driver Performance by Circuit\n",
    "pivot = race_results.pivot_table(index='driver_id', columns='circuit_id', values='final_position', aggfunc='mean')\n",
    "plt.figure(figsize=(16, 8))\n",
    "sns.heatmap(pivot, cmap='YlGnBu', annot=False)\n",
    "plt.title('Driver Performance by Circuit (Average Finishing Position)')\n",
    "plt.xlabel('Circuit')\n",
    "plt.ylabel('Driver')\n",
    "plt.show()"
   ]
  },
  {
   "cell_type": "code",
   "execution_count": null,
   "id": "69b26da3",
   "metadata": {},
   "outputs": [],
   "source": [
    "# Interactive Time Series: Team Performance Evolution\n",
    "import plotly.express as px\n",
    "fig = px.line(team_points, x='season', y='points', color='constructor_id', title='Team Performance Evolution Over Seasons')\n",
    "fig.show()"
   ]
  },
  {
   "cell_type": "code",
   "execution_count": null,
   "id": "015ddf0c",
   "metadata": {},
   "outputs": [],
   "source": [
    "# Scatter Plot: Qualifying vs Race Pace\n",
    "fig = px.scatter(merged, x='position', y='final_position', color='driver_id', title='Qualifying vs Race Position')\n",
    "fig.show()"
   ]
  },
  {
   "cell_type": "code",
   "execution_count": null,
   "id": "83b46863",
   "metadata": {},
   "outputs": [],
   "source": [
    "# Box Plots: Consistency Metrics\n",
    "consistency = race_results.groupby('driver_id')['final_position'].std().sort_values()\n",
    "plt.figure(figsize=(12, 6))\n",
    "consistency.plot(kind='box')\n",
    "plt.title('Driver Consistency (Std Dev of Finishing Position)')\n",
    "plt.ylabel('Standard Deviation')\n",
    "plt.show()"
   ]
  },
  {
   "cell_type": "code",
   "execution_count": null,
   "id": "20a22435",
   "metadata": {},
   "outputs": [],
   "source": [
    "# Sankey Diagram: Position Changes\n",
    "import plotly.graph_objects as go\n",
    "# Example: Use merged qualifying and race positions for a single race\n",
    "sample_race = merged[merged['race_id'] == merged['race_id'].iloc[0]]\n",
    "labels = [f\"Q{q}\" for q in sample_race['position']] + [f\"R{r}\" for r in sample_race['final_position']]\n",
    "source = list(range(len(sample_race['position'])))\n",
    "target = list(range(len(sample_race['position']), len(sample_race['position'])*2))\n",
    "value = [1]*len(sample_race['position'])\n",
    "fig = go.Figure(data=[go.Sankey(\n",
    "    node=dict(label=labels),\n",
    "    link=dict(source=source, target=target, value=value)\n",
    ")])\n",
    "fig.update_layout(title_text=\"Position Changes: Qualifying to Race\", font_size=10)\n",
    "fig.show()"
   ]
  },
  {
   "cell_type": "markdown",
   "id": "58afd1e2",
   "metadata": {},
   "source": [
    "## Statistical Testing\n",
    "\n",
    "Test for significant differences between teammates, track effects, momentum, and betting market efficiency."
   ]
  },
  {
   "cell_type": "code",
   "execution_count": null,
   "id": "5dac6be3",
   "metadata": {},
   "outputs": [],
   "source": [
    "# Teammate Comparison: Paired t-test\n",
    "from scipy.stats import ttest_rel\n",
    "# Example: Compare two teammates' finishing positions\n",
    "team = 'red_bull'\n",
    "teammates = race_results[race_results['constructor_id'] == team]['driver_id'].unique()\n",
    "if len(teammates) == 2:\n",
    "    d1 = race_results[(race_results['constructor_id'] == team) & (race_results['driver_id'] == teammates[0])]['final_position']\n",
    "    d2 = race_results[(race_results['constructor_id'] == team) & (race_results['driver_id'] == teammates[1])]['final_position']\n",
    "    t_stat, p_val = ttest_rel(d1, d2)\n",
    "    print(f\"Teammate comparison ({teammates[0]} vs {teammates[1]}): t={t_stat:.2f}, p={p_val:.3f}\")"
   ]
  },
  {
   "cell_type": "code",
   "execution_count": null,
   "id": "3507dfed",
   "metadata": {},
   "outputs": [],
   "source": [
    "# Track Effect: ANOVA\n",
    "from scipy.stats import f_oneway\n",
    "track_groups = [group['final_position'].values for name, group in race_results.groupby('circuit_id') if len(group) > 10]\n",
    "if len(track_groups) > 1:\n",
    "    f_stat, p_val = f_oneway(*track_groups)\n",
    "    print(f\"Track effect ANOVA: F={f_stat:.2f}, p={p_val:.3f}\")"
   ]
  },
  {
   "cell_type": "code",
   "execution_count": null,
   "id": "336dbfb5",
   "metadata": {},
   "outputs": [],
   "source": [
    "# Momentum Effect: Hot Streaks\n",
    "race_results['prev_position'] = race_results.groupby('driver_id')['final_position'].shift(1)\n",
    "race_results['momentum'] = race_results['final_position'] < race_results['prev_position']\n",
    "momentum_rate = race_results.groupby('driver_id')['momentum'].mean()\n",
    "plt.figure(figsize=(12, 6))\n",
    "momentum_rate.plot(kind='bar', color='teal')\n",
    "plt.title('Driver Momentum Rate (Improving Position)')\n",
    "plt.ylabel('Momentum Rate')\n",
    "plt.xlabel('Driver')\n",
    "plt.show()"
   ]
  },
  {
   "cell_type": "code",
   "execution_count": null,
   "id": "ae827b51",
   "metadata": {},
   "outputs": [],
   "source": [
    "# Betting Market Efficiency (Example)\n",
    "# If betting odds data is available, compare predicted probabilities to actual outcomes\n",
    "# odds_df = pd.read_csv('../data/features/betting_odds.csv')\n",
    "# merged_odds = pd.merge(race_results, odds_df, on=['race_id', 'driver_id'])\n",
    "# from sklearn.metrics import brier_score_loss\n",
    "# brier = brier_score_loss(merged_odds['actual_points'], merged_odds['predicted_prob'])\n",
    "# print(f'Brier score for betting market efficiency: {brier:.3f}')"
   ]
  }
 ],
 "metadata": {
  "language_info": {
   "name": "python"
  }
 },
 "nbformat": 4,
 "nbformat_minor": 5
}
